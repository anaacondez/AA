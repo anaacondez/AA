{
 "cells": [
  {
   "cell_type": "code",
   "execution_count": 1,
   "metadata": {},
   "outputs": [],
   "source": [
    "import matplotlib.pyplot as plt\n",
    "import numpy as np\n",
    "import pandas as pd\n",
    "import scipy as sp\n",
    "import seaborn as sns\n",
    "import sklearn.datasets"
   ]
  },
  {
   "cell_type": "code",
   "execution_count": 2,
   "metadata": {},
   "outputs": [],
   "source": [
    "\n",
    "train_data = pd.read_csv(r'C:\\Users\\lscon\\Desktop\\AA\\projeto\\the-three-body-problem\\mlNOVA\\X_train.csv')\n",
    "#test_data = pd.read_csv(r'C:/Users/duart/OneDrive/Ambiente_de_Trabalho/Master_Analysis_Engineering_Big_Data/23-24/1st_semester/AA_ML/Kaggle_challenges/3_body_problem/3_body_problem/X_test.csv')\n",
    "\n",
    "#Definir as variáveis\n",
    "t = pd.DataFrame(train_data, columns=['t'])\n",
    "x1 = pd.DataFrame(train_data, columns=['x_1'])\n",
    "x2 = pd.DataFrame(train_data, columns=['x_2'])\n",
    "x3 = pd.DataFrame(train_data, columns=['x_3'])\n",
    "y1 = pd.DataFrame(train_data, columns=['y_1'])\n",
    "y2 = pd.DataFrame(train_data, columns=['y_2'])\n",
    "y3 = pd.DataFrame(train_data, columns=['y_3'])\n",
    "vx1 = pd.DataFrame(train_data, columns=['v_x_1'])\n",
    "vx2 = pd.DataFrame(train_data, columns=['v_x_2'])\n",
    "vx3 = pd.DataFrame(train_data, columns=['v_x_3'])\n",
    "vy1 = pd.DataFrame(train_data, columns=['v_y_1'])\n",
    "vy2 = pd.DataFrame(train_data, columns=['v_y_2'])\n",
    "vy3 = pd.DataFrame(train_data, columns=['v_y_3'])"
   ]
  },
  {
   "cell_type": "code",
   "execution_count": 3,
   "metadata": {},
   "outputs": [],
   "source": [
    "# Identify faulty rows based on the criterion (all values = 0.0 except for Id)\n",
    "zero_rows = train_data[(train_data.drop('Id', axis=1) == 0).all(axis=1)]\n",
    "\n",
    "# Remove the faulty rows from the DataFrame\n",
    "train_data_preprocessed = train_data[~train_data.index.isin(zero_rows.index)]\n",
    "train_data_preprocessed.reset_index(drop=True, inplace=True)\n",
    "#train_data_preprocessed.to_csv('train_preprocessed.csv', index=False)"
   ]
  },
  {
   "cell_type": "code",
   "execution_count": 7,
   "metadata": {},
   "outputs": [],
   "source": [
    "#gives the stats for the preprocessed data (without the rows with zeros)\n",
    "summary_stats_filtered = train_data_preprocessed.describe(include='all')\n",
    "\n",
    "#gives the stats for the nonprocessed data\n",
    "summary_stats = train_data.describe(include=\"all\")"
   ]
  },
  {
   "cell_type": "markdown",
   "metadata": {},
   "source": [
    "# Test..."
   ]
  },
  {
   "cell_type": "code",
   "execution_count": null,
   "metadata": {},
   "outputs": [],
   "source": [
    "# Calculate the correlation matrix and plot it as a heatmap\n",
    "corr_matrix = train_data_preprocessed.drop(train_data_preprocessed.columns[13],\n",
    "                                       axis=1).corr()\n",
    "corr_matrix.to_excel('corr_matrix_train_processed.xlsx')\n",
    "\n",
    "plt.figure(figsize=(20, 16), dpi=800)\n",
    "sns.heatmap(corr_matrix, annot=True, cmap='coolwarm', fmt='.4f',\n",
    "            linewidths=0.5)\n",
    "plt.title('Correlation Matrix Heatmap')\n",
    "plt.savefig('Corr_matrix_heatmap.jpg', dpi=800)\n",
    "plt.show()\n",
    "\n",
    "# Create a pairwise scatter plot matrix\n",
    "scatter_matrix = pd.plotting.scatter_matrix(train_data_preprocessed,\n",
    "                                            figsize=(20, 20))\n",
    "plt.show()\n"
   ]
  },
  {
   "cell_type": "code",
   "execution_count": 4,
   "metadata": {},
   "outputs": [],
   "source": [
    "#create pairwise plots of correlation between variables\n",
    "\n",
    "rows = 50000\n",
    "x1_rows = x1.head(n=rows)\n",
    "partial_train_data = train_data_preprocessed.drop(columns=['v_x_1','v_x_2','v_y_1', \n",
    "                                                           'v_y_2', 'v_x_3', 'v_y_3']).head(n=rows)\n",
    "\n",
    "\n",
    "_= sns.pairplot(partial_train_data, kind=\"reg\", diag_kind=\"kde\", plot_kws={'line_kws':{'color':'red'}})\n",
    "plt.title('Pairwise plots t vs velocity components')\n",
    "plt.savefig('pairwisetv_50000')"
   ]
  },
  {
   "cell_type": "code",
   "execution_count": 37,
   "metadata": {},
   "outputs": [],
   "source": [
    "#create feature label matrices\n",
    "#we're not going to use the velocity components as features\n",
    "train_data_without_velocity = train_data_preprocessed.drop(columns=['Id','v_x_1','v_x_2','v_y_1', \n",
    "                                                           'v_y_2', 'v_x_3', 'v_y_3'])\n",
    "#divide by simulations\n",
    "list_of_times = [values for values in train_data_without_velocity['t']]\n",
    "time_index_tuples = list(enumerate(list_of_times))\n",
    "zeros_indexes = list(filter(lambda value: value[1] == 0, time_index_tuples))\n",
    "zeros_indexes = [value[0] for value in zeros_indexes] \n",
    "list_of_simulations = [train_data_without_velocity.iloc[[zeros_indexes[i]], :zeros_indexes[i+1]] for i in range(len(zeros_indexes)-1)] \n",
    "#list_of_simulations"
   ]
  },
  {
   "cell_type": "code",
   "execution_count": null,
   "metadata": {},
   "outputs": [],
   "source": []
  }
 ],
 "metadata": {
  "kernelspec": {
   "display_name": "base",
   "language": "python",
   "name": "python3"
  },
  "language_info": {
   "codemirror_mode": {
    "name": "ipython",
    "version": 3
   },
   "file_extension": ".py",
   "mimetype": "text/x-python",
   "name": "python",
   "nbconvert_exporter": "python",
   "pygments_lexer": "ipython3",
   "version": "3.9.18"
  }
 },
 "nbformat": 4,
 "nbformat_minor": 2
}
