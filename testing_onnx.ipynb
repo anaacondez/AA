{
 "cells": [
  {
   "cell_type": "code",
   "execution_count": 2,
   "metadata": {},
   "outputs": [],
   "source": [
    "import matplotlib.pyplot as plt\n",
    "import numpy as np\n",
    "import pandas as pd\n",
    "import seaborn as sns\n",
    "from sklearn.preprocessing import StandardScaler, PolynomialFeatures, FunctionTransformer, PowerTransformer\n",
    "from sklearn.compose import ColumnTransformer\n",
    "from sklearn.linear_model import LinearRegression, Ridge\n",
    "from sklearn.neighbors import KNeighborsRegressor\n",
    "from sklearn.ensemble import VotingRegressor\n",
    "from sklearn.model_selection import train_test_split, GridSearchCV\n",
    "from sklearn.pipeline import Pipeline\n",
    "from sklearn.metrics import mean_squared_error\n",
    "from sklearn.utils import estimator_html_repr\n",
    "import random\n",
    "import skl2onnx\n",
    "import onnx\n",
    "from skl2onnx import convert_sklearn\n",
    "from skl2onnx.common.data_types import FloatTensorType, Int64TensorType\n",
    "from datetime import datetime\n",
    "import onnxruntime as rt"
   ]
  },
  {
   "cell_type": "code",
   "execution_count": null,
   "metadata": {},
   "outputs": [],
   "source": [
    "# Data to predict\n",
    "X_test = pd.read_csv('X_test.csv')\n",
    "id_column = X_test['Id']\n",
    "X_realworld = X_test\n",
    "X_realworld.drop('Id', axis=1, inplace=True)\n",
    "X_realworld = X_realworld.to_numpy()\n",
    "\n",
    "# Importing model\n",
    "model = \"Models\\model20231015_234032.onnx\"\n",
    "knn_reg = rt.InferenceSession(model)\n",
    "\n",
    "# inves de chamares a função pipeline.predict(data), chamas o seguinte código:\n",
    "predictions_realworld = knn_reg.run(None, {\"t\": X_realworld[:, 0].astype(np.float32).reshape(-1, 1),\n",
    "                                  \"x_1\": X_realworld[:, 1].astype(np.float32).reshape(-1, 1),\n",
    "                                  \"y_1\": X_realworld[:, 2].astype(np.float32).reshape(-1, 1),\n",
    "                                  \"x_2\": X_realworld[:, 3].astype(np.float32).reshape(-1, 1),\n",
    "                                  \"y_2\": X_realworld[:, 4].astype(np.float32).reshape(-1, 1),\n",
    "                                  \"x_3\": X_realworld[:, 5].astype(np.float32).reshape(-1, 1),\n",
    "                                  \"y_3\": X_realworld[:, 6].astype(np.float32).reshape(-1, 1),\n",
    "                                 })[0]\n",
    "\n",
    "# Make predictions on the preprocessed real-world data\n",
    "#predictions_realworld = knn_reg.predict(X_realworld)\n",
    "\n",
    "\n",
    "# Create a new Pandas DataFrame with the predictions\n",
    "df_predictions = pd.DataFrame(predictions_realworld)\n",
    "df_predictions.insert(loc=0, column='Id', value = id_column)\n",
    "df_predictions.columns=['Id', 'x_1', 'y_1', 'x_2', 'y_2', 'x_3', 'y_3']\n",
    "\n",
    "# Save the Pandas dataframe\n",
    "df_predictions.to_csv('predictions.csv', index=False)"
   ]
  }
 ],
 "metadata": {
  "kernelspec": {
   "display_name": "base",
   "language": "python",
   "name": "python3"
  },
  "language_info": {
   "codemirror_mode": {
    "name": "ipython",
    "version": 3
   },
   "file_extension": ".py",
   "mimetype": "text/x-python",
   "name": "python",
   "nbconvert_exporter": "python",
   "pygments_lexer": "ipython3",
   "version": "3.11.5"
  }
 },
 "nbformat": 4,
 "nbformat_minor": 2
}
